{
 "cells": [
  {
   "cell_type": "code",
   "execution_count": 1,
   "metadata": {
    "ExecuteTime": {
     "end_time": "2022-03-29T09:22:28.980806Z",
     "start_time": "2022-03-29T09:22:24.322321Z"
    }
   },
   "outputs": [],
   "source": [
    "import numpy as np\n",
    "import pandas as pd\n",
    "from sklearn import linear_model\n",
    "from sklearn.model_selection import cross_validate"
   ]
  },
  {
   "cell_type": "markdown",
   "metadata": {},
   "source": [
    "### Load data"
   ]
  },
  {
   "cell_type": "code",
   "execution_count": 2,
   "metadata": {
    "ExecuteTime": {
     "end_time": "2022-03-29T09:22:29.032939Z",
     "start_time": "2022-03-29T09:22:28.986153Z"
    }
   },
   "outputs": [],
   "source": [
    "df_train = pd.read_csv('train.csv')\n",
    "y_data = df_train.loc[:,'y']\n",
    "x_data = df_train.iloc[:,1:]\n",
    "K = 10\n",
    "#df_train.describe()"
   ]
  },
  {
   "cell_type": "markdown",
   "metadata": {},
   "source": [
    "### Create models with different penalties"
   ]
  },
  {
   "cell_type": "code",
   "execution_count": 3,
   "metadata": {
    "ExecuteTime": {
     "end_time": "2022-03-29T09:22:29.072488Z",
     "start_time": "2022-03-29T09:22:29.047455Z"
    }
   },
   "outputs": [],
   "source": [
    "lambdas = [ 0.1, 1, 10, 100, 200]\n",
    "ridge = [linear_model.Ridge(alpha=lam) for lam in lambdas]"
   ]
  },
  {
   "cell_type": "markdown",
   "metadata": {},
   "source": [
    "###  Calculate the validation error"
   ]
  },
  {
   "cell_type": "code",
   "execution_count": 11,
   "metadata": {
    "ExecuteTime": {
     "end_time": "2022-03-29T09:24:50.622962Z",
     "start_time": "2022-03-29T09:24:50.275017Z"
    }
   },
   "outputs": [
    {
     "data": {
      "text/plain": [
       "array([5.50180945, 5.49983874, 5.48363149, 5.63664214, 5.72123372])"
      ]
     },
     "execution_count": 11,
     "metadata": {},
     "output_type": "execute_result"
    }
   ],
   "source": [
    "validation_data = [cross_validate(model,x_data,y_data, cv=K, scoring='neg_root_mean_squared_error')\n",
    "                   for model in ridge]\n",
    "\n",
    "#convert score to error\n",
    "RME = [validation['test_score']*(-1) for validation in validation_data]\n",
    "average_error = np.mean(RME,axis=1)\n",
    "average_error"
   ]
  },
  {
   "cell_type": "markdown",
   "metadata": {},
   "source": [
    "### Write in file"
   ]
  },
  {
   "cell_type": "code",
   "execution_count": null,
   "metadata": {
    "ExecuteTime": {
     "end_time": "2022-03-29T09:22:29.987972Z",
     "start_time": "2022-03-29T09:22:24.407Z"
    }
   },
   "outputs": [],
   "source": [
    "pd.DataFrame(average_error).to_csv('sample.csv', index=False, header=False)"
   ]
  }
 ],
 "metadata": {
  "kernelspec": {
   "display_name": "Python 3",
   "language": "python",
   "name": "python3"
  },
  "language_info": {
   "codemirror_mode": {
    "name": "ipython",
    "version": 3
   },
   "file_extension": ".py",
   "mimetype": "text/x-python",
   "name": "python",
   "nbconvert_exporter": "python",
   "pygments_lexer": "ipython3",
   "version": "3.7.6"
  }
 },
 "nbformat": 4,
 "nbformat_minor": 4
}
